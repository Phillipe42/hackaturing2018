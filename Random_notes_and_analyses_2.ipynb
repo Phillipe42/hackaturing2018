{
 "cells": [
  {
   "cell_type": "code",
   "execution_count": 1,
   "metadata": {},
   "outputs": [],
   "source": [
    "import pandas as pd"
   ]
  },
  {
   "cell_type": "code",
   "execution_count": 5,
   "metadata": {},
   "outputs": [
    {
     "name": "stderr",
     "output_type": "stream",
     "text": [
      "/usr/local/lib/python3.5/dist-packages/IPython/core/interactiveshell.py:2785: DtypeWarning: Columns (7) have mixed types. Specify dtype option on import or set low_memory=False.\n",
      "  interactivity=interactivity, compiler=compiler, result=result)\n"
     ]
    }
   ],
   "source": [
    "df = pd.read_csv(r'hackaturing.dsv', sep='|')"
   ]
  },
  {
   "cell_type": "code",
   "execution_count": null,
   "metadata": {},
   "outputs": [],
   "source": [
    "df.rename(columns={'base_hackaturing.cnpj':'cnpj', \n",
    "                          'base_hackaturing.prestador':'prestador',\n",
    "                          'base_hackaturing.uf':'uf',\n",
    "                          'base_hackaturing.id_beneficiario':'id_beneficiario',\n",
    "                          'base_hackaturing.sexo':'sexo',\n",
    "                          'base_hackaturing.data_nascimento':'data_nascimento',\n",
    "                          'base_hackaturing.id_conta':'id_conta',\n",
    "                          'base_hackaturing.cid':'cid',\n",
    "                          'base_hackaturing.crm_solicitante':'crm_solicitante',\n",
    "                          'base_hackaturing.cbos_solicitante':'cbos_solicitante',\n",
    "                          'base_hackaturing.cbos_executante':'cbos_executante',\n",
    "                          'base_hackaturing.data_entrada':'data_entrada',\n",
    "                          'base_hackaturing.data_saida':'data_saida',\n",
    "                          'base_hackaturing.data_item':'data_item',\n",
    "                          'base_hackaturing.senha':'senha',\n",
    "                          'base_hackaturing.tipo_guia':'tipo_guia',\n",
    "                          'base_hackaturing.tipo_item':'tipo_item',\n",
    "                          'base_hackaturing.carater_atendimento':'carater_atendimento',\n",
    "                          'base_hackaturing.servico':'servico',\n",
    "                          'base_hackaturing.descricao_despesa':'descricao_despesa',\n",
    "                          'base_hackaturing.quantidade':'quantidade',\n",
    "                          'base_hackaturing.valor_item':'valor_item',\n",
    "                          'base_hackaturing.valor_cobrado':'valor_cobrado',\n",
    "                          'base_hackaturing.valor_pago':'valor_pago',\n",
    "                          'base_hackaturing.ano_mes':'ano_mes'}, inplace=True)"
   ]
  },
  {
   "cell_type": "code",
   "execution_count": null,
   "metadata": {},
   "outputs": [],
   "source": [
    "#todos os registros que tem algum valor cobrado (em torno de 600k)\n",
    "df_glosa = df[df.valor_cobrado > 0]\n",
    "\n",
    "#todos os registros nos quais ocorrem glosa (em torno de 12k)\n",
    "df_glosa2 = df_glosa[(abs(df_glosa['valor_cobrado'] - df_glosa['valor_pago']) > 0)]\n",
    "df_glosa2.count()\n",
    "df_glosa2 = df_glosa2[0::1]\n",
    "\n",
    "#uma amostra dos registros onde nao occore glosa (em torno de 12k)\n",
    "df_glosa3 = df_glosa[(abs(df_glosa['valor_cobrado'] - df_glosa['valor_pago']) == 0)]\n",
    "df_glosa3.count()\n",
    "df_glosa3 = df_glosa3[0::51]\n",
    "\n",
    "#definindo um \"ground truth\"\n",
    "df_glosa3['truth'] = 0\n",
    "df_glosa2['truth'] = 1"
   ]
  },
  {
   "cell_type": "code",
   "execution_count": null,
   "metadata": {},
   "outputs": [],
   "source": [
    "#adicionar os elementos\n",
    "data_pretraining = df_glosa2\n",
    "data_pretraining = data_pretraining.append(df_glosa3)\n",
    "\n",
    "#embaralhar os elementos\n",
    "data_pretraining = data_pretraining.sample(frac=1)"
   ]
  },
  {
   "cell_type": "code",
   "execution_count": null,
   "metadata": {},
   "outputs": [],
   "source": [
    "#parsear os parametros para os dados finais\n",
    "data_training = pd.get_dummies(data_pretraining['cnpj'])\n",
    "data_training = pd.concat([data_training, pd.get_dummies(data_pretraining['sexo'])], axis=1)\n",
    "#data_training = pd.concat([data_training, pd.to_datetime(data_pretraining['data_nascimento'])], axis=1)\n",
    "#data_training = pd.concat([data_training, (pd.to_datetime(data_pretraining['data_saida']) - pd.to_datetime(data_pretraining['data_entrada'])).dt.days], axis=1)\n",
    "data_training = pd.concat([data_training, pd.get_dummies(data_pretraining['tipo_guia'])], axis=1)\n",
    "data_training = pd.concat([data_training, pd.get_dummies(data_pretraining['tipo_item'])], axis=1)\n",
    "data_training = pd.concat([data_training, pd.get_dummies(data_pretraining['carater_atendimento'])], axis=1)\n",
    "#data_training = pd.concat([data_training, pd.get_dummies(data_pretraining['servico'])], axis=1) #enorme\n",
    "data_training = pd.concat([data_training, data_pretraining['quantidade']], axis=1)\n",
    "data_training = pd.concat([data_training, data_pretraining['valor_item']], axis=1)\n",
    "data_training = pd.concat([data_training, data_pretraining['valor_cobrado']], axis=1)\n",
    "\n",
    "data_target = data_pretraining['truth']"
   ]
  },
  {
   "cell_type": "code",
   "execution_count": null,
   "metadata": {},
   "outputs": [],
   "source": [
    "#treinar\n",
    "from sklearn import svm\n",
    "clf = svm.SVC(gamma=0.001, C=100.)\n",
    "clf.fit(data_training[:20], data_target[:20])"
   ]
  },
  {
   "cell_type": "code",
   "execution_count": null,
   "metadata": {},
   "outputs": [],
   "source": [
    "clf.predict(data_training[:20])"
   ]
  },
  {
   "cell_type": "code",
   "execution_count": null,
   "metadata": {},
   "outputs": [],
   "source": [
    "data_target[:20]"
   ]
  },
  {
   "cell_type": "code",
   "execution_count": null,
   "metadata": {},
   "outputs": [],
   "source": []
  }
 ],
 "metadata": {
  "kernelspec": {
   "display_name": "Python 3",
   "language": "python",
   "name": "python3"
  },
  "language_info": {
   "codemirror_mode": {
    "name": "ipython",
    "version": 3
   },
   "file_extension": ".py",
   "mimetype": "text/x-python",
   "name": "python",
   "nbconvert_exporter": "python",
   "pygments_lexer": "ipython3",
   "version": "3.5.2"
  }
 },
 "nbformat": 4,
 "nbformat_minor": 2
}
