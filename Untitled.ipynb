{
 "cells": [
  {
   "cell_type": "code",
   "execution_count": 320,
   "metadata": {},
   "outputs": [],
   "source": [
    "import pandas as pd"
   ]
  },
  {
   "cell_type": "code",
   "execution_count": 321,
   "metadata": {},
   "outputs": [
    {
     "name": "stderr",
     "output_type": "stream",
     "text": [
      "/usr/local/lib/python3.6/dist-packages/IPython/core/interactiveshell.py:2785: DtypeWarning: Columns (7) have mixed types. Specify dtype option on import or set low_memory=False.\n",
      "  interactivity=interactivity, compiler=compiler, result=result)\n"
     ]
    }
   ],
   "source": [
    "df = pandas.read_csv(r'hackaturing.dsv', sep='|')"
   ]
  },
  {
   "cell_type": "code",
   "execution_count": 322,
   "metadata": {},
   "outputs": [],
   "source": [
    "df.rename(columns={'base_hackaturing.cnpj':'cnpj', \n",
    "                          'base_hackaturing.prestador':'prestador',\n",
    "                          'base_hackaturing.uf':'uf',\n",
    "                          'base_hackaturing.id_beneficiario':'id_beneficiario',\n",
    "                          'base_hackaturing.sexo':'sexo',\n",
    "                          'base_hackaturing.data_nascimento':'data_nascimento',\n",
    "                          'base_hackaturing.id_conta':'id_conta',\n",
    "                          'base_hackaturing.cid':'cid',\n",
    "                          'base_hackaturing.crm_solicitante':'crm_solicitante',\n",
    "                          'base_hackaturing.cbos_solicitante':'cbos_solicitante',\n",
    "                          'base_hackaturing.cbos_executante':'cbos_executante',\n",
    "                          'base_hackaturing.data_entrada':'data_entrada',\n",
    "                          'base_hackaturing.data_saida':'data_saida',\n",
    "                          'base_hackaturing.data_item':'data_item',\n",
    "                          'base_hackaturing.senha':'senha',\n",
    "                          'base_hackaturing.tipo_guia':'tipo_guia',\n",
    "                          'base_hackaturing.tipo_item':'tipo_item',\n",
    "                          'base_hackaturing.carater_atendimento':'carater_atendimento',\n",
    "                          'base_hackaturing.servico':'servico',\n",
    "                          'base_hackaturing.descricao_despesa':'descricao_despesa',\n",
    "                          'base_hackaturing.quantidade':'quantidade',\n",
    "                          'base_hackaturing.valor_item':'valor_item',\n",
    "                          'base_hackaturing.valor_cobrado':'valor_cobrado',\n",
    "                          'base_hackaturing.valor_pago':'valor_pago',\n",
    "                          'base_hackaturing.ano_mes':'ano_mes'}, inplace=True)"
   ]
  },
  {
   "cell_type": "code",
   "execution_count": 323,
   "metadata": {},
   "outputs": [],
   "source": [
    "#todos os registros que tem algum valor cobrado (em torno de 600k)\n",
    "df_glosa = df[df.valor_cobrado > 0]\n",
    "\n",
    "#todos os registros nos quais ocorrem glosa (em torno de 12k)\n",
    "df_glosa2 = df_glosa[(abs(df_glosa['valor_cobrado'] - df_glosa['valor_pago']) > 0)]\n",
    "df_glosa2 = df_glosa2[0::1]\n",
    "\n",
    "#uma amostra dos registros onde nao occore glosa (em torno de 12k)\n",
    "df_glosa3 = df_glosa[(abs(df_glosa['valor_cobrado'] - df_glosa['valor_pago']) == 0)]\n",
    "df_glosa3 = df_glosa3[0::51]\n",
    "\n",
    "#definindo um \"ground truth\"\n",
    "df_glosa3['truth'] = 0\n",
    "df_glosa2['truth'] = 1"
   ]
  },
  {
   "cell_type": "code",
   "execution_count": 324,
   "metadata": {},
   "outputs": [],
   "source": [
    "#adicionar os elementos\n",
    "data_pretraining = df_glosa2\n",
    "data_pretraining = data_pretraining.append(df_glosa3)\n",
    "\n",
    "#embaralhar os elementos\n",
    "data_pretraining = data_pretraining.sample(frac=1)"
   ]
  },
  {
   "cell_type": "code",
   "execution_count": 325,
   "metadata": {},
   "outputs": [],
   "source": [
    "#parsear os parametros para os dados finais\n",
    "data_training = pd.get_dummies(data_pretraining['cnpj'])\n",
    "data_training = pd.concat([data_training, pd.get_dummies(data_pretraining['sexo'])], axis=1)\n",
    "#data_training = pd.concat([data_training, pd.to_datetime(data_pretraining['data_nascimento'])], axis=1)\n",
    "#data_training = pd.concat([data_training, (pd.to_datetime(data_pretraining['data_saida']) - pd.to_datetime(data_pretraining['data_entrada'])).dt.days], axis=1)\n",
    "data_training = pd.concat([data_training, pd.get_dummies(data_pretraining['tipo_guia'])], axis=1)\n",
    "data_training = pd.concat([data_training, pd.get_dummies(data_pretraining['tipo_item'])], axis=1)\n",
    "data_training = pd.concat([data_training, pd.get_dummies(data_pretraining['carater_atendimento'])], axis=1)\n",
    "#data_training = pd.concat([data_training, pd.get_dummies(data_pretraining['servico'])], axis=1) #enorme\n",
    "data_training = pd.concat([data_training, data_pretraining['quantidade']], axis=1)\n",
    "data_training = pd.concat([data_training, data_pretraining['valor_item']], axis=1)\n",
    "data_training = pd.concat([data_training, data_pretraining['valor_cobrado']], axis=1)\n",
    "\n",
    "data_target = data_pretraining['truth']"
   ]
  },
  {
   "cell_type": "code",
   "execution_count": 326,
   "metadata": {},
   "outputs": [
    {
     "data": {
      "text/plain": [
       "SVC(C=100.0, cache_size=200, class_weight=None, coef0=0.0,\n",
       "  decision_function_shape='ovr', degree=3, gamma=0.001, kernel='rbf',\n",
       "  max_iter=-1, probability=False, random_state=None, shrinking=True,\n",
       "  tol=0.001, verbose=False)"
      ]
     },
     "execution_count": 326,
     "metadata": {},
     "output_type": "execute_result"
    }
   ],
   "source": [
    "#treinar\n",
    "from sklearn import svm\n",
    "clf = svm.SVC(gamma=0.001, C=100.)\n",
    "clf.fit(data_training[:20], data_target[:20])"
   ]
  },
  {
   "cell_type": "code",
   "execution_count": 327,
   "metadata": {},
   "outputs": [
    {
     "data": {
      "text/plain": [
       "array([1, 0, 0, 1, 0, 0, 1, 0, 1, 1, 1, 1, 0, 1, 1, 1, 0, 0, 1, 0])"
      ]
     },
     "execution_count": 327,
     "metadata": {},
     "output_type": "execute_result"
    }
   ],
   "source": [
    "clf.predict(data_training[:20])"
   ]
  },
  {
   "cell_type": "code",
   "execution_count": 328,
   "metadata": {},
   "outputs": [
    {
     "data": {
      "text/plain": [
       "2804952    1\n",
       "2831079    0\n",
       "2037393    1\n",
       "221600     1\n",
       "841138     0\n",
       "4686527    0\n",
       "3004786    0\n",
       "2430732    0\n",
       "368668     1\n",
       "225935     1\n",
       "2814993    1\n",
       "2662004    1\n",
       "2922330    0\n",
       "2968639    1\n",
       "4542123    0\n",
       "4343598    1\n",
       "2230558    0\n",
       "2504163    0\n",
       "3942400    1\n",
       "2741641    0\n",
       "Name: truth, dtype: int64"
      ]
     },
     "execution_count": 328,
     "metadata": {},
     "output_type": "execute_result"
    }
   ],
   "source": [
    "data_target[:20]"
   ]
  },
  {
   "cell_type": "code",
   "execution_count": null,
   "metadata": {},
   "outputs": [],
   "source": []
  }
 ],
 "metadata": {
  "kernelspec": {
   "display_name": "Python 3",
   "language": "python",
   "name": "python3"
  },
  "language_info": {
   "codemirror_mode": {
    "name": "ipython",
    "version": 3
   },
   "file_extension": ".py",
   "mimetype": "text/x-python",
   "name": "python",
   "nbconvert_exporter": "python",
   "pygments_lexer": "ipython3",
   "version": "3.6.5"
  }
 },
 "nbformat": 4,
 "nbformat_minor": 2
}
